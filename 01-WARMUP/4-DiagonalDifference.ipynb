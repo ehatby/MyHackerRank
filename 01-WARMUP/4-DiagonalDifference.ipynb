{
 "cells": [
  {
   "cell_type": "markdown",
   "id": "24e0b9de",
   "metadata": {},
   "source": [
    "---\n",
    "## Diagonal Difference\n",
    "\n",
    "Given a square matrix, calculate the absolute difference between the sums of its diagonals.\n",
    "\n",
    "For example, the square matrix  is shown below:\n",
    "\n",
    "1 2 3\n",
    "4 5 6\n",
    "9 8 9  \n",
    "The left-to-right diagonal = . The right to left diagonal = . Their absolute difference is .\n",
    "\n",
    "---"
   ]
  },
  {
   "cell_type": "code",
   "execution_count": 1,
   "id": "0e723b60",
   "metadata": {},
   "outputs": [],
   "source": [
    "import math\n",
    "import os\n",
    "import random\n",
    "import re\n",
    "import sys\n",
    "\n",
    "# Complete the 'diagonalDifference' function below.\n",
    "#\n",
    "# The function is expected to return an INTEGER.\n",
    "# The function accepts 2D_INTEGER_ARRAY arr as parameter."
   ]
  },
  {
   "cell_type": "code",
   "execution_count": 52,
   "id": "d3e3aaca",
   "metadata": {},
   "outputs": [],
   "source": [
    "def diagonalDifference(arr):\n",
    "    # Write your code here\n",
    "    left_to_right = []\n",
    "    right_to_left= []\n",
    "    \n",
    "    left_to_right = [arr[i][i] for i in range(len(arr))]\n",
    "    \n",
    "    j = 0\n",
    "    for i in range(len(arr)-1,-1,-1):\n",
    "        right_to_left.append(arr[j][i])\n",
    "        j += 1\n",
    "    \n",
    "    return abs(sum(left_to_right) - sum(right_to_left))\n",
    "    "
   ]
  },
  {
   "cell_type": "code",
   "execution_count": 56,
   "id": "77bdbe3e",
   "metadata": {},
   "outputs": [
    {
     "name": "stdout",
     "output_type": "stream",
     "text": [
      "3 \n",
      "1 2 3\n",
      "4 5 6\n",
      " 7 8 9\n",
      "[1, 5, 9]\n",
      "[3, 5, 7]\n",
      "0\n"
     ]
    }
   ],
   "source": [
    "if __name__ == '__main__':\n",
    "\n",
    "    n = int(input().strip())\n",
    "\n",
    "    arr = []\n",
    "\n",
    "    for _ in range(n):\n",
    "        arr.append(list(map(int, input().rstrip().split())))\n",
    "\n",
    "    result = diagonalDifference(arr)\n",
    "    print(result)"
   ]
  },
  {
   "cell_type": "code",
   "execution_count": null,
   "id": "831ac87b",
   "metadata": {},
   "outputs": [],
   "source": []
  }
 ],
 "metadata": {
  "kernelspec": {
   "display_name": "Python 3 (ipykernel)",
   "language": "python",
   "name": "python3"
  },
  "language_info": {
   "codemirror_mode": {
    "name": "ipython",
    "version": 3
   },
   "file_extension": ".py",
   "mimetype": "text/x-python",
   "name": "python",
   "nbconvert_exporter": "python",
   "pygments_lexer": "ipython3",
   "version": "3.10.2"
  }
 },
 "nbformat": 4,
 "nbformat_minor": 5
}
