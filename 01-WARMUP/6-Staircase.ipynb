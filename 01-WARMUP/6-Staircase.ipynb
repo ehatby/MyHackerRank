{
 "cells": [
  {
   "cell_type": "markdown",
   "id": "e28558da",
   "metadata": {},
   "source": [
    "----\n",
    "## Staircase\n",
    "This is a staircase of size :\n",
    "\n",
    " \n",
    " #\n",
    " \n",
    " ##\n",
    " \n",
    " ###\n",
    " \n",
    "####\n",
    "Its base and height are both equal to . It is drawn using # symbols and spaces. The last line is not preceded by any spaces.\n",
    "\n",
    "Write a program that prints a staircase of size ."
   ]
  },
  {
   "cell_type": "code",
   "execution_count": 1,
   "id": "2dc58e9b",
   "metadata": {},
   "outputs": [],
   "source": [
    "import math\n",
    "import os\n",
    "import random\n",
    "import re\n",
    "import sys\n"
   ]
  },
  {
   "cell_type": "code",
   "execution_count": 2,
   "id": "3a81102b",
   "metadata": {},
   "outputs": [],
   "source": [
    "def staircase(n):\n",
    "    # Write your code here\n",
    "    k = n-1\n",
    "    for i in range(1, n+1):\n",
    "        print(' '*k + '#'*i)\n",
    "        k-= 1\n"
   ]
  },
  {
   "cell_type": "code",
   "execution_count": 3,
   "id": "697dfa2e",
   "metadata": {},
   "outputs": [
    {
     "name": "stdout",
     "output_type": "stream",
     "text": [
      "10\n",
      "         #\n",
      "        ##\n",
      "       ###\n",
      "      ####\n",
      "     #####\n",
      "    ######\n",
      "   #######\n",
      "  ########\n",
      " #########\n",
      "##########\n"
     ]
    }
   ],
   "source": [
    "if __name__ == '__main__':\n",
    "    n = int(input().strip())\n",
    "\n",
    "    staircase(n)\n"
   ]
  },
  {
   "cell_type": "code",
   "execution_count": null,
   "id": "b1e60185",
   "metadata": {},
   "outputs": [],
   "source": []
  },
  {
   "cell_type": "code",
   "execution_count": null,
   "id": "93ff7666",
   "metadata": {},
   "outputs": [],
   "source": []
  }
 ],
 "metadata": {
  "kernelspec": {
   "display_name": "Python 3 (ipykernel)",
   "language": "python",
   "name": "python3"
  },
  "language_info": {
   "codemirror_mode": {
    "name": "ipython",
    "version": 3
   },
   "file_extension": ".py",
   "mimetype": "text/x-python",
   "name": "python",
   "nbconvert_exporter": "python",
   "pygments_lexer": "ipython3",
   "version": "3.10.2"
  }
 },
 "nbformat": 4,
 "nbformat_minor": 5
}
