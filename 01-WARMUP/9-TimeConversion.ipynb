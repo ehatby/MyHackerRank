{
 "cells": [
  {
   "cell_type": "markdown",
   "id": "a4bb2baf",
   "metadata": {},
   "source": [
    "----\n",
    "\n",
    "## Time Conversion\n",
    "\n",
    "Given a time in -hour AM/PM format, convert it to military (24-hour) time.\n",
    "\n",
    "Note: - 12:00:00AM on a 12-hour clock is 00:00:00 on a 24-hour clock.\n",
    "- 12:00:00PM on a 12-hour clock is 12:00:00 on a 24-hour clock.\n",
    "\n",
    "Example:\n",
    "\n",
    "* s = '12:01:00PM'\n",
    " - Return '12:01:00'.\n",
    "  \n",
    "* s = '12:01:00AM'\n",
    " - Return '00:01:00'.\n",
    "\n",
    "----"
   ]
  },
  {
   "cell_type": "code",
   "execution_count": 1,
   "id": "4b428b1c",
   "metadata": {},
   "outputs": [],
   "source": [
    "import math\n",
    "import os\n",
    "import random\n",
    "import re\n",
    "import sys\n",
    "\n",
    "# Complete the 'timeConversion' function below.\n",
    "#\n",
    "# The function is expected to return a STRING.\n",
    "# The function accepts STRING s as parameter."
   ]
  },
  {
   "cell_type": "code",
   "execution_count": 2,
   "id": "4bdb23c5",
   "metadata": {},
   "outputs": [],
   "source": [
    "def timeConversion(s):\n",
    "    # Write your code here\n",
    "    if s[-2:] == 'PM':\n",
    "        if int(s[:2]) < 12:\n",
    "            s = str(12 + int(s[:2])) + s[2:-2]\n",
    "        else:\n",
    "            s = s[:-2]\n",
    "    else:\n",
    "        if int(s[:2]) >= 12:\n",
    "            s = '0' + str(int(s[:2]) - 12) + s[2:-2]\n",
    "        else:\n",
    "            s = s[:-2]\n",
    "    return s"
   ]
  },
  {
   "cell_type": "code",
   "execution_count": 3,
   "id": "2da59461",
   "metadata": {},
   "outputs": [
    {
     "name": "stdout",
     "output_type": "stream",
     "text": [
      "12:05:05AM\n",
      "00:05:05\n"
     ]
    }
   ],
   "source": [
    "if __name__ == '__main__':\n",
    "\n",
    "    s = input()\n",
    "\n",
    "    result = timeConversion(s)\n",
    "    print(result)\n"
   ]
  },
  {
   "cell_type": "code",
   "execution_count": null,
   "id": "fd189bf8",
   "metadata": {},
   "outputs": [],
   "source": []
  }
 ],
 "metadata": {
  "kernelspec": {
   "display_name": "Python 3 (ipykernel)",
   "language": "python",
   "name": "python3"
  },
  "language_info": {
   "codemirror_mode": {
    "name": "ipython",
    "version": 3
   },
   "file_extension": ".py",
   "mimetype": "text/x-python",
   "name": "python",
   "nbconvert_exporter": "python",
   "pygments_lexer": "ipython3",
   "version": "3.10.2"
  }
 },
 "nbformat": 4,
 "nbformat_minor": 5
}
