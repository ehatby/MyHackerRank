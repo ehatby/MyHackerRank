{
 "cells": [
  {
   "cell_type": "markdown",
   "id": "87d12c1c",
   "metadata": {},
   "source": [
    "---\n",
    "\n",
    "## Plus Minus\n",
    "Given an array of integers, calculate the ratios of its elements that are positive, negative, and zero. Print the decimal value of each fraction on a new line with  places after the decimal.\n",
    "\n",
    "Note: This challenge introduces precision problems. The test cases are scaled to six decimal places, though answers with absolute error of up to  are acceptable.\n",
    "\n",
    "Example\n",
    "\n",
    "There are  elements, two positive, two negative and one zero. Their ratios are ,  and . Results are printed as:\n",
    "\n",
    "0.400000\n",
    "0.400000\n",
    "0.200000\n",
    "\n",
    "---"
   ]
  },
  {
   "cell_type": "code",
   "execution_count": 1,
   "id": "87defe5e",
   "metadata": {},
   "outputs": [],
   "source": [
    "import math\n",
    "import os\n",
    "import random\n",
    "import re\n",
    "import sys\n",
    "\n",
    "# Complete the 'plusMinus' function below.\n",
    "#\n",
    "# The function accepts INTEGER_ARRAY arr as parameter."
   ]
  },
  {
   "cell_type": "code",
   "execution_count": 2,
   "id": "94fcb763",
   "metadata": {},
   "outputs": [],
   "source": [
    "def plusMinus(arr):\n",
    "    # Write your code here\n",
    "    negatif = []\n",
    "    pozitif = []\n",
    "    sifir = []\n",
    "    for i in arr:\n",
    "        if i < 0:\n",
    "            negatif.append(i)\n",
    "        elif i > 0:\n",
    "            pozitif.append(i)\n",
    "        else:\n",
    "            sifir.append(i)\n",
    "    sonuc = [len(pozitif)/len(arr), len(negatif)/len(arr) , len(sifir)/ len(arr)]\n",
    "    for i in sonuc:\n",
    "        print(i)"
   ]
  },
  {
   "cell_type": "code",
   "execution_count": 3,
   "id": "eefd83fd",
   "metadata": {},
   "outputs": [
    {
     "name": "stdout",
     "output_type": "stream",
     "text": [
      "5\n",
      "-1 -5 0 3 7\n",
      "[-1, -5, 0, 3, 7]\n",
      "0.4\n",
      "0.4\n",
      "0.2\n"
     ]
    }
   ],
   "source": [
    "if __name__ == '__main__':\n",
    "    n = int(input().strip())\n",
    "\n",
    "    arr = list(map(int, input().rstrip().split()))\n",
    "    \n",
    "    print(arr)\n",
    "\n",
    "    plusMinus(arr)\n"
   ]
  },
  {
   "cell_type": "code",
   "execution_count": 4,
   "id": "f5d48b43",
   "metadata": {},
   "outputs": [],
   "source": [
    "def plusMinus2(arr):\n",
    "    neg = 0\n",
    "    zero = 0\n",
    "    pos = 0\n",
    "    for i in arr:\n",
    "        if i > 0:\n",
    "            pos += 1\n",
    "        elif i == 0:\n",
    "            zero += 1\n",
    "        else:\n",
    "            neg += 1\n",
    "    return print(f'''{pos/len(arr):.6f}\n",
    "    {neg/len(arr):.6f}\n",
    "    {zero/len(arr):.6f}''')"
   ]
  },
  {
   "cell_type": "code",
   "execution_count": null,
   "id": "f99fbffc",
   "metadata": {},
   "outputs": [],
   "source": []
  }
 ],
 "metadata": {
  "kernelspec": {
   "display_name": "Python 3 (ipykernel)",
   "language": "python",
   "name": "python3"
  },
  "language_info": {
   "codemirror_mode": {
    "name": "ipython",
    "version": 3
   },
   "file_extension": ".py",
   "mimetype": "text/x-python",
   "name": "python",
   "nbconvert_exporter": "python",
   "pygments_lexer": "ipython3",
   "version": "3.10.2"
  }
 },
 "nbformat": 4,
 "nbformat_minor": 5
}
