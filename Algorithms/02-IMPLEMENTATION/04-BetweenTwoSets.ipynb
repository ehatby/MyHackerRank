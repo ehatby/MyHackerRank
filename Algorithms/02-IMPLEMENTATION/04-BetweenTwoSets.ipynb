{
 "cells": [
  {
   "cell_type": "code",
   "execution_count": null,
   "id": "6db9b0bd",
   "metadata": {},
   "outputs": [],
   "source": []
  },
  {
   "cell_type": "code",
   "execution_count": 1,
   "id": "41ed7e2a",
   "metadata": {},
   "outputs": [],
   "source": [
    "import math\n",
    "import os\n",
    "import random\n",
    "import re\n",
    "import sys\n",
    "#\n",
    "# Complete the 'getTotalX' function below.\n",
    "#\n",
    "# The function is expected to return an INTEGER.\n",
    "# The function accepts following parameters:\n",
    "#  1. INTEGER_ARRAY a\n",
    "#  2. INTEGER_ARRAY b\n"
   ]
  },
  {
   "cell_type": "code",
   "execution_count": 2,
   "id": "8dd4f41f",
   "metadata": {},
   "outputs": [
    {
     "data": {
      "text/plain": [
       "'\\ndef getTotalX(arr, brr):\\n    # Write your code here\\n    arr.sort()\\n    brr.sort()\\n    for i in range(len(arr)-1):\\n        ekok = math.lcm(arr[i], arr[i+1])\\n  \\n    divide = 0\\n    for i in range(1,10):\\n        count = 0\\n        for j in brr:\\n            if j % (ekok * i) == 0:\\n                count += 1\\n        if count == len(brr):\\n            divide+= 1\\n    return divide\\n'"
      ]
     },
     "execution_count": 2,
     "metadata": {},
     "output_type": "execute_result"
    }
   ],
   "source": [
    "# Benim yadığım kod. Maalsef başarısız.\n",
    "'''\n",
    "def getTotalX(arr, brr):\n",
    "    # Write your code here\n",
    "    arr.sort()\n",
    "    brr.sort()\n",
    "    for i in range(len(arr)-1):\n",
    "        ekok = math.lcm(arr[i], arr[i+1])\n",
    "  \n",
    "    divide = 0\n",
    "    for i in range(1,10):\n",
    "        count = 0\n",
    "        for j in brr:\n",
    "            if j % (ekok * i) == 0:\n",
    "                count += 1\n",
    "        if count == len(brr):\n",
    "            divide+= 1\n",
    "    return divide\n",
    "'''"
   ]
  },
  {
   "cell_type": "code",
   "execution_count": 3,
   "id": "66f96a81",
   "metadata": {},
   "outputs": [],
   "source": [
    "# internet çözümü:\n",
    "def getTotalX(a, b):\n",
    "    res = 0\n",
    "    for i in range(max(a), min(b) + 1):\n",
    "        res += (all([i % aa == 0 for aa in a]) and all([bb % i == 0 for bb in b]))\n",
    "    return res"
   ]
  },
  {
   "cell_type": "code",
   "execution_count": 4,
   "id": "d1f96364",
   "metadata": {},
   "outputs": [
    {
     "name": "stdout",
     "output_type": "stream",
     "text": [
      "2 4\n",
      "16 32 96\n",
      "3\n"
     ]
    }
   ],
   "source": [
    "if __name__ == '__main__':\n",
    "\n",
    "    arr = list(map(int, input().rstrip().split()))\n",
    "\n",
    "    brr = list(map(int, input().rstrip().split()))\n",
    "\n",
    "    total = getTotalX(arr, brr)\n",
    "\n",
    "    print(total)"
   ]
  },
  {
   "cell_type": "code",
   "execution_count": 5,
   "id": "a4919dcd",
   "metadata": {},
   "outputs": [
    {
     "data": {
      "text/plain": [
       "4"
      ]
     },
     "execution_count": 5,
     "metadata": {},
     "output_type": "execute_result"
    }
   ],
   "source": [
    "math.lcm(2,4) # ekok\n"
   ]
  },
  {
   "cell_type": "code",
   "execution_count": 6,
   "id": "5a31f028",
   "metadata": {},
   "outputs": [
    {
     "data": {
      "text/plain": [
       "16"
      ]
     },
     "execution_count": 6,
     "metadata": {},
     "output_type": "execute_result"
    }
   ],
   "source": [
    "math.gcd(16,32,96) # ebob"
   ]
  }
 ],
 "metadata": {
  "kernelspec": {
   "display_name": "Python 3 (ipykernel)",
   "language": "python",
   "name": "python3"
  },
  "language_info": {
   "codemirror_mode": {
    "name": "ipython",
    "version": 3
   },
   "file_extension": ".py",
   "mimetype": "text/x-python",
   "name": "python",
   "nbconvert_exporter": "python",
   "pygments_lexer": "ipython3",
   "version": "3.10.2"
  }
 },
 "nbformat": 4,
 "nbformat_minor": 5
}
