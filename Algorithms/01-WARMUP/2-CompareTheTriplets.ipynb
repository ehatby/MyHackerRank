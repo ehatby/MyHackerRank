{
 "cells": [
  {
   "cell_type": "markdown",
   "id": "522d2f10",
   "metadata": {},
   "source": [
    "----\n",
    "## Compare The Triplets:\n",
    "\n",
    "Alice and Bob each created one problem for HackerRank. A reviewer rates the two challenges, awarding points on a scale from 1 to 100 for three categories: problem clarity, originality, and difficulty.\n",
    "\n",
    "The rating for Alice's challenge is the triplet a = (a[0], a[1], a[2]), and the rating for Bob's challenge is the triplet b = (b[0], b[1], b[2]).\n",
    "\n",
    "The task is to find their comparison points by comparing a[0] with b[0], a[1] with b[1], and a[2] with b[2].\n",
    "\n",
    "If a[i] > b[i], then Alice is awarded 1 point.\n",
    "If a[i] < b[i], then Bob is awarded 1 point.\n",
    "If a[i] = b[i], then neither person receives a point.\n",
    "Comparison points is the total points a person earned.\n",
    "\n",
    "Given a and b, determine their respective comparison points.\n",
    "\n",
    "----"
   ]
  },
  {
   "cell_type": "code",
   "execution_count": 1,
   "id": "6d36bc52",
   "metadata": {},
   "outputs": [],
   "source": [
    "import math\n",
    "import os\n",
    "import random\n",
    "import re\n",
    "import sys\n",
    "\n",
    "#\n",
    "# Complete the 'compareTriplets' function below.\n",
    "#\n",
    "# The function is expected to return an INTEGER_ARRAY.\n",
    "# The function accepts following parameters:\n",
    "#  1. INTEGER_ARRAY a\n",
    "#  2. INTEGER_ARRAY b\n",
    "#"
   ]
  },
  {
   "cell_type": "code",
   "execution_count": 22,
   "id": "b47994bf",
   "metadata": {},
   "outputs": [],
   "source": [
    "def compareTriplets(a, b):\n",
    "    # Write your code here\n",
    "    a_count = 0\n",
    "    b_count = 0\n",
    "    for i in range(len(a)):\n",
    "        if a[i] > b[i]:\n",
    "            a_count += 1\n",
    "        elif b[i] > a[i]:\n",
    "            b_count += 1\n",
    "    return a_count,b_count\n"
   ]
  },
  {
   "cell_type": "code",
   "execution_count": 23,
   "id": "8ded9204",
   "metadata": {},
   "outputs": [
    {
     "name": "stdout",
     "output_type": "stream",
     "text": [
      "1 2 3\n",
      "2 3 5\n",
      "(0, 3)\n"
     ]
    }
   ],
   "source": [
    "if __name__ == '__main__':\n",
    "\n",
    "    a = list(map(int, input().rstrip().split()))\n",
    "\n",
    "    b = list(map(int, input().rstrip().split()))\n",
    "\n",
    "    result = compareTriplets(a, b)\n",
    "    print(result)\n"
   ]
  },
  {
   "cell_type": "code",
   "execution_count": 17,
   "id": "ff32ec50",
   "metadata": {},
   "outputs": [
    {
     "data": {
      "text/plain": [
       "[2, 3, 6]"
      ]
     },
     "execution_count": 17,
     "metadata": {},
     "output_type": "execute_result"
    }
   ],
   "source": [
    "a\n"
   ]
  },
  {
   "cell_type": "code",
   "execution_count": 11,
   "id": "442ce57c",
   "metadata": {},
   "outputs": [
    {
     "data": {
      "text/plain": [
       "3"
      ]
     },
     "execution_count": 11,
     "metadata": {},
     "output_type": "execute_result"
    }
   ],
   "source": [
    "len(a)"
   ]
  },
  {
   "cell_type": "code",
   "execution_count": null,
   "id": "ffaaf76a",
   "metadata": {},
   "outputs": [],
   "source": []
  }
 ],
 "metadata": {
  "kernelspec": {
   "display_name": "Python 3 (ipykernel)",
   "language": "python",
   "name": "python3"
  },
  "language_info": {
   "codemirror_mode": {
    "name": "ipython",
    "version": 3
   },
   "file_extension": ".py",
   "mimetype": "text/x-python",
   "name": "python",
   "nbconvert_exporter": "python",
   "pygments_lexer": "ipython3",
   "version": "3.10.2"
  }
 },
 "nbformat": 4,
 "nbformat_minor": 5
}
