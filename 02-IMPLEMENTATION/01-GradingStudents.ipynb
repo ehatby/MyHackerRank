{
 "cells": [
  {
   "cell_type": "markdown",
   "id": "c87cb555",
   "metadata": {},
   "source": [
    "----\n",
    "## Grading Students\n",
    "\n",
    "HackerLand University has the following grading policy:\n",
    "\n",
    "Every student receives a grade  in the inclusive range from 0 to 100 .\n",
    "Any grade  less than 40  is a failing grade.\n",
    "\n",
    "Sam is a professor at the university and likes to round each student's grade  according to these rules:\n",
    "\n",
    "If the difference between the grade and the next multiple of 5 is less than 3, round grade up to the next multiple of 5 .\n",
    "If the value of grade is less than 38 , no rounding occurs as the result will still be a failing grade.\n",
    "\n",
    "Examples:\n",
    "\n",
    " - grade = 84 round to 85  (85 - 84 is less than 3)\n",
    " - grade = 29 do not round (result is less than 40)\n",
    " - grade = 57 do not round (60 - 57 is 3 or higher)\n",
    "Given the initial value of grade  for each of Sam's n students, write code to automate the rounding process.\n",
    "\n",
    "----"
   ]
  },
  {
   "cell_type": "code",
   "execution_count": 1,
   "id": "7432e4cf",
   "metadata": {},
   "outputs": [],
   "source": [
    "import math\n",
    "import os\n",
    "import random\n",
    "import re\n",
    "import sys\n",
    "\n",
    "# Complete the 'gradingStudents' function below.\n",
    "#\n",
    "# The function is expected to return an INTEGER_ARRAY.\n",
    "# The function accepts INTEGER_ARRAY grades as parameter."
   ]
  },
  {
   "cell_type": "code",
   "execution_count": 2,
   "id": "34fa2ce2",
   "metadata": {},
   "outputs": [],
   "source": [
    "def gradingStudents(grades):\n",
    "    # Write your code here\n",
    "    for i in range(len(grades)):\n",
    "        if grades[i] < 38:\n",
    "            pass\n",
    "        elif grades[i] % 5 > 2:\n",
    "            grades[i] = grades[i] + (5 - grades[i]%5)\n",
    "    return grades"
   ]
  },
  {
   "cell_type": "code",
   "execution_count": 3,
   "id": "091b2e9e",
   "metadata": {},
   "outputs": [
    {
     "name": "stdout",
     "output_type": "stream",
     "text": [
      "4\n",
      "78\n",
      "77\n",
      "62\n",
      "38\n",
      "[80, 77, 62, 38]\n"
     ]
    }
   ],
   "source": [
    "if __name__ == '__main__':\n",
    "    \n",
    "    grades_count = int(input().strip())\n",
    "\n",
    "    grades = []\n",
    "\n",
    "    for _ in range(grades_count):\n",
    "        grades_item = int(input().strip())\n",
    "        grades.append(grades_item)\n",
    "\n",
    "    result = gradingStudents(grades)\n",
    "    print(result)"
   ]
  },
  {
   "cell_type": "code",
   "execution_count": 4,
   "id": "b44e294e",
   "metadata": {},
   "outputs": [
    {
     "data": {
      "text/plain": [
       "[80, 77, 62, 38]"
      ]
     },
     "execution_count": 4,
     "metadata": {},
     "output_type": "execute_result"
    }
   ],
   "source": [
    "grades"
   ]
  },
  {
   "cell_type": "code",
   "execution_count": null,
   "id": "16f1b645",
   "metadata": {},
   "outputs": [],
   "source": []
  }
 ],
 "metadata": {
  "kernelspec": {
   "display_name": "Python 3 (ipykernel)",
   "language": "python",
   "name": "python3"
  },
  "language_info": {
   "codemirror_mode": {
    "name": "ipython",
    "version": 3
   },
   "file_extension": ".py",
   "mimetype": "text/x-python",
   "name": "python",
   "nbconvert_exporter": "python",
   "pygments_lexer": "ipython3",
   "version": "3.10.2"
  }
 },
 "nbformat": 4,
 "nbformat_minor": 5
}
